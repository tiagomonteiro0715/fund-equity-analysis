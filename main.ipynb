{
 "cells": [
  {
   "cell_type": "code",
   "execution_count": 5,
   "id": "clinical-italian",
   "metadata": {},
   "outputs": [],
   "source": [
    "from __future__ import absolute_import, division, print_function\n",
    "import tensorflow as tf\n",
    "import numpy as np\n",
    "import keras\n",
    "import pandas as pd\n",
    "import matplotlib.pyplot as plt"
   ]
  },
  {
   "cell_type": "code",
   "execution_count": 8,
   "id": "raised-hawaii",
   "metadata": {
    "scrolled": true
   },
   "outputs": [
    {
     "data": {
      "text/html": [
       "<div>\n",
       "<style scoped>\n",
       "    .dataframe tbody tr th:only-of-type {\n",
       "        vertical-align: middle;\n",
       "    }\n",
       "\n",
       "    .dataframe tbody tr th {\n",
       "        vertical-align: top;\n",
       "    }\n",
       "\n",
       "    .dataframe thead th {\n",
       "        text-align: right;\n",
       "    }\n",
       "</style>\n",
       "<table border=\"1\" class=\"dataframe\">\n",
       "  <thead>\n",
       "    <tr style=\"text-align: right;\">\n",
       "      <th></th>\n",
       "      <th>name</th>\n",
       "      <th>nok</th>\n",
       "      <th>usd</th>\n",
       "      <th>sector</th>\n",
       "      <th>ownership</th>\n",
       "      <th>country</th>\n",
       "      <th>id</th>\n",
       "      <th>type</th>\n",
       "      <th>voting</th>\n",
       "    </tr>\n",
       "  </thead>\n",
       "  <tbody>\n",
       "    <tr>\n",
       "      <th>0</th>\n",
       "      <td>1&amp;1 Drillisch AG</td>\n",
       "      <td>303563913</td>\n",
       "      <td>35454997</td>\n",
       "      <td>Telecommunications</td>\n",
       "      <td>0.80</td>\n",
       "      <td>Germany</td>\n",
       "      <td>3121.0</td>\n",
       "      <td>equities</td>\n",
       "      <td>0.80</td>\n",
       "    </tr>\n",
       "    <tr>\n",
       "      <th>1</th>\n",
       "      <td>10X Genomics Inc</td>\n",
       "      <td>58566060</td>\n",
       "      <td>6840271</td>\n",
       "      <td>Health Care</td>\n",
       "      <td>0.04</td>\n",
       "      <td>United States</td>\n",
       "      <td>6185.0</td>\n",
       "      <td>equities</td>\n",
       "      <td>0.01</td>\n",
       "    </tr>\n",
       "    <tr>\n",
       "      <th>2</th>\n",
       "      <td>11 bit studios SA</td>\n",
       "      <td>72377431</td>\n",
       "      <td>8453382</td>\n",
       "      <td>Consumer Goods</td>\n",
       "      <td>2.82</td>\n",
       "      <td>Poland</td>\n",
       "      <td>5809.0</td>\n",
       "      <td>equities</td>\n",
       "      <td>2.82</td>\n",
       "    </tr>\n",
       "    <tr>\n",
       "      <th>3</th>\n",
       "      <td>1Life Healthcare Inc</td>\n",
       "      <td>244649434</td>\n",
       "      <td>28574032</td>\n",
       "      <td>Health Care</td>\n",
       "      <td>0.49</td>\n",
       "      <td>United States</td>\n",
       "      <td>3535.0</td>\n",
       "      <td>equities</td>\n",
       "      <td>0.49</td>\n",
       "    </tr>\n",
       "    <tr>\n",
       "      <th>4</th>\n",
       "      <td>1st Source Corp</td>\n",
       "      <td>86771625</td>\n",
       "      <td>10134563</td>\n",
       "      <td>Financials</td>\n",
       "      <td>0.98</td>\n",
       "      <td>United States</td>\n",
       "      <td>5472.0</td>\n",
       "      <td>equities</td>\n",
       "      <td>0.98</td>\n",
       "    </tr>\n",
       "  </tbody>\n",
       "</table>\n",
       "</div>"
      ],
      "text/plain": [
       "                   name        nok       usd              sector  ownership  \\\n",
       "0      1&1 Drillisch AG  303563913  35454997  Telecommunications       0.80   \n",
       "1      10X Genomics Inc   58566060   6840271         Health Care       0.04   \n",
       "2     11 bit studios SA   72377431   8453382      Consumer Goods       2.82   \n",
       "3  1Life Healthcare Inc  244649434  28574032         Health Care       0.49   \n",
       "4       1st Source Corp   86771625  10134563          Financials       0.98   \n",
       "\n",
       "         country      id      type  voting  \n",
       "0        Germany  3121.0  equities    0.80  \n",
       "1  United States  6185.0  equities    0.01  \n",
       "2         Poland  5809.0  equities    2.82  \n",
       "3  United States  3535.0  equities    0.49  \n",
       "4  United States  5472.0  equities    0.98  "
      ]
     },
     "execution_count": 8,
     "metadata": {},
     "output_type": "execute_result"
    }
   ],
   "source": [
    "df = pd.read_csv('investments.csv')\n",
    "df.head(5)"
   ]
  },
  {
   "cell_type": "code",
   "execution_count": null,
   "id": "iraqi-separate",
   "metadata": {},
   "outputs": [],
   "source": [
    "#https://github.com/tiagomonteiro0715/another-data-science-project/blob/master/main.py\n",
    "#important code above\n",
    "\n",
    "#filter contries and sectores"
   ]
  }
 ],
 "metadata": {
  "kernelspec": {
   "display_name": "tensorflow-pgBqpyoG",
   "language": "python",
   "name": "tensorflow-pgbqpyog"
  },
  "language_info": {
   "codemirror_mode": {
    "name": "ipython",
    "version": 3
   },
   "file_extension": ".py",
   "mimetype": "text/x-python",
   "name": "python",
   "nbconvert_exporter": "python",
   "pygments_lexer": "ipython3",
   "version": "3.7.8"
  }
 },
 "nbformat": 4,
 "nbformat_minor": 5
}
