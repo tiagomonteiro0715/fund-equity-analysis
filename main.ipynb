{
 "cells": [
  {
   "cell_type": "markdown",
   "id": "korean-coral",
   "metadata": {},
   "source": [
    "This dataset analysis went totally wrong. Do a favor for yourself and check the other dataset-analysis. Ignore this one"
   ]
  },
  {
   "cell_type": "code",
   "execution_count": 1,
   "id": "clinical-italian",
   "metadata": {},
   "outputs": [],
   "source": [
    "from __future__ import absolute_import, division, print_function\n",
    "import tensorflow as tf\n",
    "import numpy as np\n",
    "import keras\n",
    "import pandas as pd\n",
    "import matplotlib.pyplot as plt"
   ]
  },
  {
   "cell_type": "markdown",
   "id": "wired-announcement",
   "metadata": {},
   "source": [
    "Filtering the dataframe"
   ]
  },
  {
   "cell_type": "code",
   "execution_count": 2,
   "id": "third-coordination",
   "metadata": {},
   "outputs": [],
   "source": [
    "file = pd.read_csv('investments.csv')\n",
    "del file['nok']\n",
    "file.drop(file.loc[file['sector'] == 'Telecommunications'].index, inplace= True)\n",
    "file.drop(file.loc[file['sector'] == 'Consumer Goods'].index, inplace= True)\n",
    "file.drop(file.loc[file['sector'] == 'Financials'].index, inplace= True)\n",
    "file.drop(file.loc[file['sector'] == 'Technology'].index, inplace= True)\n",
    "file.drop(file.loc[file['sector'] == 'Consumer Services'].index, inplace= True)\n",
    "file.drop(file.loc[file['sector'] == 'Industrials'].index, inplace= True)\n",
    "file.drop(file.loc[file['sector'] == 'Utilities'].index, inplace= True)\n",
    "file.drop(file.loc[file['sector'] == 'Basic Materials'].index, inplace= True)\n",
    "file.drop(file.loc[file['sector'] == 'Oil & Gas'].index, inplace= True)"
   ]
  },
  {
   "cell_type": "code",
   "execution_count": 3,
   "id": "unique-concord",
   "metadata": {},
   "outputs": [
    {
     "name": "stdout",
     "output_type": "stream",
     "text": [
      "['United States', 'China', 'France', 'South Korea', 'Switzerland', 'New Zealand', 'Denmark', 'Japan', 'South Africa', 'Taiwan', 'India', 'Saudi Arabia', 'Brazil', 'Spain', 'Italy', 'Australia', 'Belgium', 'Sweden', 'United Kingdom', 'Canada', 'Thailand', 'Germany', 'Hong Kong', 'Bangladesh', 'Poland', 'Egypt', 'Malaysia', 'Netherlands', 'Mexico', 'Indonesia', 'Israel', 'Slovenia', 'Russia', 'Romania', 'Finland', 'Latvia', 'Singapore', 'Hungary', 'Tunisia']\n"
     ]
    }
   ],
   "source": [
    "country = list(file['country'])\n",
    "\n",
    "#remove duplicate contries from a list. So that we can \n",
    "def my_function(x):\n",
    "  return list(dict.fromkeys(x))\n",
    "\n",
    "mylist = my_function(country)\n",
    "print(mylist)"
   ]
  },
  {
   "cell_type": "code",
   "execution_count": 4,
   "id": "stock-advocacy",
   "metadata": {},
   "outputs": [
    {
     "data": {
      "text/html": [
       "<div>\n",
       "<style scoped>\n",
       "    .dataframe tbody tr th:only-of-type {\n",
       "        vertical-align: middle;\n",
       "    }\n",
       "\n",
       "    .dataframe tbody tr th {\n",
       "        vertical-align: top;\n",
       "    }\n",
       "\n",
       "    .dataframe thead th {\n",
       "        text-align: right;\n",
       "    }\n",
       "</style>\n",
       "<table border=\"1\" class=\"dataframe\">\n",
       "  <thead>\n",
       "    <tr style=\"text-align: right;\">\n",
       "      <th></th>\n",
       "      <th>name</th>\n",
       "      <th>usd</th>\n",
       "      <th>sector</th>\n",
       "      <th>ownership</th>\n",
       "      <th>country</th>\n",
       "      <th>id</th>\n",
       "      <th>type</th>\n",
       "      <th>voting</th>\n",
       "    </tr>\n",
       "  </thead>\n",
       "  <tbody>\n",
       "    <tr>\n",
       "      <th>1</th>\n",
       "      <td>10X Genomics Inc</td>\n",
       "      <td>6840271</td>\n",
       "      <td>Health Care</td>\n",
       "      <td>0.04</td>\n",
       "      <td>United States</td>\n",
       "      <td>6185.0</td>\n",
       "      <td>equities</td>\n",
       "      <td>0.01</td>\n",
       "    </tr>\n",
       "    <tr>\n",
       "      <th>3</th>\n",
       "      <td>1Life Healthcare Inc</td>\n",
       "      <td>28574032</td>\n",
       "      <td>Health Care</td>\n",
       "      <td>0.49</td>\n",
       "      <td>United States</td>\n",
       "      <td>3535.0</td>\n",
       "      <td>equities</td>\n",
       "      <td>0.49</td>\n",
       "    </tr>\n",
       "    <tr>\n",
       "      <th>14</th>\n",
       "      <td>4D Molecular Therapeutics Inc</td>\n",
       "      <td>207250</td>\n",
       "      <td>Health Care</td>\n",
       "      <td>0.02</td>\n",
       "      <td>United States</td>\n",
       "      <td>8847.0</td>\n",
       "      <td>equities</td>\n",
       "      <td>0.02</td>\n",
       "    </tr>\n",
       "    <tr>\n",
       "      <th>20</th>\n",
       "      <td>908 Devices Inc</td>\n",
       "      <td>3054172</td>\n",
       "      <td>Health Care</td>\n",
       "      <td>0.20</td>\n",
       "      <td>United States</td>\n",
       "      <td>7445.0</td>\n",
       "      <td>equities</td>\n",
       "      <td>0.00</td>\n",
       "    </tr>\n",
       "    <tr>\n",
       "      <th>34</th>\n",
       "      <td>AB Science SA</td>\n",
       "      <td>13701941</td>\n",
       "      <td>Health Care</td>\n",
       "      <td>1.25</td>\n",
       "      <td>France</td>\n",
       "      <td>4924.0</td>\n",
       "      <td>equities</td>\n",
       "      <td>1.25</td>\n",
       "    </tr>\n",
       "  </tbody>\n",
       "</table>\n",
       "</div>"
      ],
      "text/plain": [
       "                             name       usd       sector  ownership  \\\n",
       "1                10X Genomics Inc   6840271  Health Care       0.04   \n",
       "3            1Life Healthcare Inc  28574032  Health Care       0.49   \n",
       "14  4D Molecular Therapeutics Inc    207250  Health Care       0.02   \n",
       "20                908 Devices Inc   3054172  Health Care       0.20   \n",
       "34                  AB Science SA  13701941  Health Care       1.25   \n",
       "\n",
       "          country      id      type  voting  \n",
       "1   United States  6185.0  equities    0.01  \n",
       "3   United States  3535.0  equities    0.49  \n",
       "14  United States  8847.0  equities    0.02  \n",
       "20  United States  7445.0  equities    0.00  \n",
       "34         France  4924.0  equities    1.25  "
      ]
     },
     "execution_count": 4,
     "metadata": {},
     "output_type": "execute_result"
    }
   ],
   "source": [
    "file.drop(file.loc[file['country'] == 'China'].index, inplace= True)\n",
    "file.drop(file.loc[file['country'] == 'South Africa'].index, inplace= True)\n",
    "file.drop(file.loc[file['country'] == 'Taiwan'].index, inplace= True)\n",
    "file.drop(file.loc[file['country'] == 'Saudi Arabia'].index, inplace= True)\n",
    "file.drop(file.loc[file['country'] == 'Brazil'].index, inplace= True)\n",
    "file.drop(file.loc[file['country'] == 'Thailand'].index, inplace= True)\n",
    "file.drop(file.loc[file['country'] == 'Hong Kong'].index, inplace= True)\n",
    "file.drop(file.loc[file['country'] == 'Bangladesh'].index, inplace= True)\n",
    "file.drop(file.loc[file['country'] == 'Egypt'].index, inplace= True)\n",
    "file.drop(file.loc[file['country'] == 'Malaysia'].index, inplace= True)\n",
    "file.drop(file.loc[file['country'] == 'Indonesia'].index, inplace= True)\n",
    "file.drop(file.loc[file['country'] == 'Slovenia'].index, inplace= True)\n",
    "file.drop(file.loc[file['country'] == 'Russia'].index, inplace= True)\n",
    "file.drop(file.loc[file['country'] == 'Romania'].index, inplace= True)\n",
    "file.drop(file.loc[file['country'] == 'Latvia'].index, inplace= True)\n",
    "file.drop(file.loc[file['country'] == 'Tunisia'].index, inplace= True)\n",
    "file.reset_index()\n",
    "\n",
    "file.head(5)"
   ]
  },
  {
   "cell_type": "code",
   "execution_count": 5,
   "id": "refined-adaptation",
   "metadata": {},
   "outputs": [],
   "source": [
    "# Parameters.\n",
    "learning_rate = 0.01\n",
    "training_steps = 1000\n",
    "display_step = 50\n",
    "rng = np.random\n",
    "\n",
    "# Training Data.\n",
    "\n",
    "#size of file index\n",
    "indexSize = len(file.index)\n",
    "X = np.arange(indexSize)\n",
    "Y = np.array(file['usd'])\n",
    "#X = np.array([3.3,4.4,5.5,6.71,6.93,4.168,9.779,6.182,7.59,2.167,7.042,10.791,5.313,7.997,5.654,9.27,3.1])\n",
    "#Y = np.array([1.7,2.76,2.09,3.19,1.694,1.573,3.366,2.596,2.53,1.221, 2.827,3.465,1.65,2.904,2.42,2.94,1.3])"
   ]
  },
  {
   "cell_type": "code",
   "execution_count": 6,
   "id": "rapid-squad",
   "metadata": {},
   "outputs": [],
   "source": [
    "# Weight and Bias, initialized randomly.\n",
    "W = tf.Variable(rng.randn(), name=\"weight\")\n",
    "b = tf.Variable(rng.randn(), name=\"bias\")\n",
    "\n",
    "def linear_regression(x):\n",
    "    return W * x + b\n",
    "\n",
    "def mean_square(y_pred, y_true):\n",
    "    return tf.reduce_mean(tf.square(y_pred - y_true))\n",
    "\n",
    "optimizer = tf.optimizers.SGD(learning_rate)"
   ]
  },
  {
   "cell_type": "code",
   "execution_count": 7,
   "id": "foster-roommate",
   "metadata": {},
   "outputs": [
    {
     "name": "stdout",
     "output_type": "stream",
     "text": [
      "step: 50, loss: nan, W: nan, b: nan\n",
      "step: 100, loss: nan, W: nan, b: nan\n",
      "step: 150, loss: nan, W: nan, b: nan\n",
      "step: 200, loss: nan, W: nan, b: nan\n",
      "step: 250, loss: nan, W: nan, b: nan\n",
      "step: 300, loss: nan, W: nan, b: nan\n",
      "step: 350, loss: nan, W: nan, b: nan\n",
      "step: 400, loss: nan, W: nan, b: nan\n",
      "step: 450, loss: nan, W: nan, b: nan\n",
      "step: 500, loss: nan, W: nan, b: nan\n",
      "step: 550, loss: nan, W: nan, b: nan\n",
      "step: 600, loss: nan, W: nan, b: nan\n",
      "step: 650, loss: nan, W: nan, b: nan\n",
      "step: 700, loss: nan, W: nan, b: nan\n",
      "step: 750, loss: nan, W: nan, b: nan\n",
      "step: 800, loss: nan, W: nan, b: nan\n",
      "step: 850, loss: nan, W: nan, b: nan\n",
      "step: 900, loss: nan, W: nan, b: nan\n",
      "step: 950, loss: nan, W: nan, b: nan\n",
      "step: 1000, loss: nan, W: nan, b: nan\n"
     ]
    }
   ],
   "source": [
    "# Optimization process. \n",
    "def run_optimization():\n",
    "    # Wrap computation inside a GradientTape for automatic differentiation.\n",
    "    with tf.GradientTape() as g:\n",
    "        pred = linear_regression(X)\n",
    "        loss = mean_square(pred, Y)\n",
    "\n",
    "    # Compute gradients.\n",
    "    gradients = g.gradient(loss, [W, b])\n",
    "    \n",
    "    # Update W and b following gradients.\n",
    "    optimizer.apply_gradients(zip(gradients, [W, b]))\n",
    "    \n",
    "    # Run training for the given number of steps.\n",
    "    \n",
    "for step in range(1, training_steps + 1):\n",
    "    # Run the optimization to update W and b values.\n",
    "    run_optimization()\n",
    "    \n",
    "    if step % display_step == 0:\n",
    "        pred = linear_regression(X)\n",
    "        loss = mean_square(pred, Y)\n",
    "        print(\"step: %i, loss: %f, W: %f, b: %f\" % (step, loss, W.numpy(), b.numpy()))\n",
    "        "
   ]
  },
  {
   "cell_type": "markdown",
   "id": "sophisticated-onion",
   "metadata": {},
   "source": [
    "Graphical display"
   ]
  },
  {
   "cell_type": "code",
   "execution_count": 8,
   "id": "precise-passing",
   "metadata": {},
   "outputs": [
    {
     "data": {
      "image/png": "[encoded data removed]",
      "text/plain": [
       "<Figure size 432x288 with 1 Axes>"
      ]
     },
     "metadata": {
      "needs_background": "light"
     },
     "output_type": "display_data"
    }
   ],
   "source": [
    "plt.plot(X, Y, 'ro', label='Original data')\n",
    "plt.plot(X, np.array(W * X + b), label='Fitted line')\n",
    "plt.legend()\n",
    "plt.show()"
   ]
  },
  {
   "cell_type": "markdown",
   "id": "leading-situation",
   "metadata": {},
   "source": [
    "And so we can colclude that a big mistake was done where. Instead of first analysing the data and check if this model was apropiated. I didn´t. "
   ]
  },
  {
   "cell_type": "markdown",
   "id": "productive-investigator",
   "metadata": {},
   "source": [
    "At this point i just sttoped dataset"
   ]
  }
 ],
 "metadata": {
  "kernelspec": {
   "display_name": "tensorflow-pgBqpyoG",
   "language": "python",
   "name": "tensorflow-pgbqpyog"
  },
  "language_info": {
   "codemirror_mode": {
    "name": "ipython",
    "version": 3
   },
   "file_extension": ".py",
   "mimetype": "text/x-python",
   "name": "python",
   "nbconvert_exporter": "python",
   "pygments_lexer": "ipython3",
   "version": "3.7.8"
  }
 },
 "nbformat": 4,
 "nbformat_minor": 5
}
